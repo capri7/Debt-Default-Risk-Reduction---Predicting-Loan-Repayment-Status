{
  "cells": [
    {
      "cell_type": "code",
      "execution_count": null,
      "metadata": {
        "id": "NlKGLmy9BRim"
      },
      "outputs": [],
      "source": [
        "from google.colab import drive\n",
        "\n",
        "# Google Driveをマウント\n",
        "drive.mount('/content/drive')\n",
        "\n",
        "# マウント完了後のメッセージ\n",
        "print(\"Google Driveがマウントされました！\")"
      ]
    },
    {
      "cell_type": "markdown",
      "source": [
        "# lightgbmでトレーニングする"
      ],
      "metadata": {
        "id": "Mcx5xRyRWaT4"
      }
    },
    {
      "cell_type": "code",
      "source": [
        "import pandas as pd\n",
        "import lightgbm as lgb\n",
        "from sklearn.model_selection import train_test_split\n",
        "from sklearn.model_selection import StratifiedKFold\n",
        "from sklearn.metrics import f1_score, precision_recall_curve\n",
        "\n",
        "\n",
        "# データ読み込み\n",
        "file_path = '/content/drive/My Drive/signate/train_1221_5.csv'\n",
        "df = pd.read_csv(file_path, low_memory=False)\n",
        "\n",
        "# カテゴリカル列\n",
        "categorical_columns = ['purpose', 'application_type']\n",
        "for col in categorical_columns:\n",
        "    df[col] = df[col].astype('category')\n",
        "\n",
        "# 特徴量とターゲット\n",
        "X = df.drop(columns=['loan_status', 'grade', 'term_months'])\n",
        "y = df['loan_status']\n",
        "\n",
        "# データ分割\n",
        "X_train, X_val, y_train, y_val = train_test_split(X, y, test_size=0.2, random_state=42, stratify=y)\n",
        "\n",
        "# LightGBMパラメータ（学習率を下げる）\n",
        "params = {\n",
        "    'objective': 'binary',\n",
        "    'metric': 'binary_logloss',\n",
        "    'boosting_type': 'gbdt',\n",
        "    'learning_rate': 0.1,  # 学習率を下げる\n",
        "    'num_leaves': 31,\n",
        "    'max_depth': 8,\n",
        "    'verbose': -1\n",
        "}\n",
        "\n",
        "# クロスバリデーションの設定\n",
        "n_splits = 5  # 分割数\n",
        "kf = StratifiedKFold(n_splits=n_splits, shuffle=True, random_state=42)\n",
        "\n",
        "f1_scores = []\n",
        "\n",
        "for fold, (train_idx, val_idx) in enumerate(kf.split(X, y)):\n",
        "    print(f\"Fold {fold + 1}/{n_splits}\")\n",
        "\n",
        "    # トレーニングデータと検証データの分割\n",
        "    X_train, X_val = X.iloc[train_idx], X.iloc[val_idx]\n",
        "    y_train, y_val = y.iloc[train_idx], y.iloc[val_idx]\n",
        "\n",
        "    # データセットの作成\n",
        "    train_data = lgb.Dataset(X_train, label=y_train, categorical_feature=categorical_columns)\n",
        "    valid_data = lgb.Dataset(X_val, label=y_val, categorical_feature=categorical_columns, reference=train_data)\n",
        "\n",
        "    # モデルの学習\n",
        "    model = lgb.train(\n",
        "        params,\n",
        "        train_data,\n",
        "        valid_sets=[valid_data],\n",
        "        num_boost_round=5000,  # イテレーション数を増やす\n",
        "        callbacks=[lgb.early_stopping(150), lgb.log_evaluation(50)]\n",
        "    )\n",
        "\n",
        "    # 検証データの予測確率\n",
        "    y_val_proba = model.predict(X_val)\n",
        "\n",
        "    # 最適な閾値を計算\n",
        "    precision, recall, thresholds = precision_recall_curve(y_val, y_val_proba)\n",
        "    f1_fold = [2 * (p * r) / (p + r) if (p + r) > 0 else 0 for p, r in zip(precision, recall)]\n",
        "    best_threshold = thresholds[f1_fold.index(max(f1_fold))]\n",
        "    print(f\"Best Threshold: {best_threshold}\")\n",
        "\n",
        "    # 最適な閾値で評価\n",
        "    y_val_pred = (y_val_proba > best_threshold).astype(int)\n",
        "    f1 = f1_score(y_val, y_val_pred)\n",
        "    f1_scores.append(f1)\n",
        "\n",
        "    print(f\"Fold {fold + 1} F1 Score: {f1}\")\n",
        "\n",
        "# 平均F1スコア\n",
        "mean_f1 = sum(f1_scores) / len(f1_scores)\n",
        "print(f\"\\nMean F1 Score across folds: {mean_f1}\")\n",
        "\n",
        "\n",
        "# モデルを保存\n",
        "model_file_path = '/content/drive/My Drive/signate/lgbm_model_1221_5.txt'\n",
        "model.save_model(model_file_path)\n",
        "print(f\"Model saved to: {model_file_path}\")\n",
        "\n"
      ],
      "metadata": {
        "id": "uR44F7zwYQbp",
        "collapsed": true
      },
      "execution_count": null,
      "outputs": []
    },
    {
      "cell_type": "markdown",
      "source": [
        "# 最適な閾値を決定する"
      ],
      "metadata": {
        "id": "mKIzoFtTo6TZ"
      }
    },
    {
      "cell_type": "code",
      "source": [
        "# 全ての検証データで予測\n",
        "y_val_proba = model.predict(X_val)  # X_valはすべての検証データ\n",
        "precision, recall, thresholds = precision_recall_curve(y_val, y_val_proba)\n",
        "\n",
        "# 最適F1スコアの閾値\n",
        "f1_scores = [2 * (p * r) / (p + r) if (p + r) > 0 else 0 for p, r in zip(precision, recall)]\n",
        "best_threshold = thresholds[f1_scores.index(max(f1_scores))]\n",
        "print(f\"Best Threshold (overall validation): {best_threshold}\")\n"
      ],
      "metadata": {
        "colab": {
          "base_uri": "https://localhost:8080/"
        },
        "id": "sFPls-1fo0-l",
        "outputId": "b7cdf791-b4b6-41cb-a031-4bd2f1ab890c"
      },
      "execution_count": null,
      "outputs": [
        {
          "output_type": "stream",
          "name": "stdout",
          "text": [
            "Best Threshold (overall validation): 0.19726323890446196\n"
          ]
        }
      ]
    },
    {
      "cell_type": "code",
      "execution_count": null,
      "metadata": {
        "id": "LxNX1-qfGSH7",
        "collapsed": true
      },
      "outputs": [],
      "source": [
        "!pip install optuna"
      ]
    },
    {
      "cell_type": "markdown",
      "metadata": {
        "id": "Hp3JASOwWzdg"
      },
      "source": [
        "# optunaで最適なパラメータを探す"
      ]
    },
    {
      "cell_type": "code",
      "source": [
        "import pandas as pd\n",
        "import lightgbm as lgb\n",
        "from lightgbm.callback import early_stopping, log_evaluation\n",
        "from sklearn.model_selection import StratifiedKFold\n",
        "import optuna\n",
        "\n",
        "# データ読み込み\n",
        "file_path = '/content/drive/My Drive/signate/train_1221_3.csv'\n",
        "df = pd.read_csv(file_path, low_memory=False)\n",
        "\n",
        "# カテゴリカル列\n",
        "categorical_columns = ['purpose', 'application_type']\n",
        "for col in categorical_columns:\n",
        "    df[col] = df[col].astype('category')\n",
        "\n",
        "# 特徴量とターゲット\n",
        "X = df.drop(columns=['loan_status', 'grade', 'term_months'])\n",
        "y = df['loan_status']\n",
        "\n",
        "# クロスバリデーションの設定\n",
        "skf = StratifiedKFold(n_splits=5, shuffle=True, random_state=42)\n",
        "\n",
        "# Optunaによるハイパーパラメータ探索の設定\n",
        "def objective(trial):\n",
        "    # ハイパーパラメータを探索\n",
        "    params = {\n",
        "        'objective': 'binary',\n",
        "        'metric': 'binary_logloss',\n",
        "        'boosting_type': 'gbdt',\n",
        "        'learning_rate': trial.suggest_loguniform('learning_rate', 0.01, 0.1),\n",
        "        'num_leaves': trial.suggest_int('num_leaves', 31, 256),\n",
        "        'max_depth': trial.suggest_int('max_depth', -1, 16),\n",
        "        'min_data_in_leaf': trial.suggest_int('min_data_in_leaf', 10, 100),\n",
        "        'lambda_l1': trial.suggest_loguniform('lambda_l1', 1e-8, 10.0),\n",
        "        'lambda_l2': trial.suggest_loguniform('lambda_l2', 1e-8, 10.0),\n",
        "        'feature_fraction': trial.suggest_uniform('feature_fraction', 0.7, 1.0),\n",
        "        'bagging_fraction': trial.suggest_uniform('bagging_fraction', 0.7, 1.0),\n",
        "        'bagging_freq': trial.suggest_int('bagging_freq', 1, 10),\n",
        "        'scale_pos_weight': trial.suggest_uniform('scale_pos_weight', 1, 10),\n",
        "        'verbose': -1\n",
        "    }\n",
        "\n",
        "    # クロスバリデーションで最適なイテレーションを計算\n",
        "    iterations = []\n",
        "    for train_idx, valid_idx in skf.split(X, y):\n",
        "        X_train, X_valid = X.iloc[train_idx], X.iloc[valid_idx]\n",
        "        y_train, y_valid = y.iloc[train_idx], y.iloc[valid_idx]\n",
        "\n",
        "        train_data = lgb.Dataset(X_train, label=y_train, categorical_feature=categorical_columns)\n",
        "        valid_data = lgb.Dataset(X_valid, label=y_valid, categorical_feature=categorical_columns)\n",
        "\n",
        "        model = lgb.train(\n",
        "            params,\n",
        "            train_data,\n",
        "            valid_sets=[valid_data],\n",
        "            num_boost_round=1000,\n",
        "            callbacks=[\n",
        "                early_stopping(stopping_rounds=50),\n",
        "                log_evaluation(50)\n",
        "            ]\n",
        "        )\n",
        "\n",
        "        iterations.append(model.best_iteration)\n",
        "\n",
        "    # 最適なブースト回数の平均を返す\n",
        "    return sum(iterations) / len(iterations)\n",
        "\n",
        "# Optunaで最適化\n",
        "study = optuna.create_study(direction='maximize')\n",
        "study.optimize(objective, n_trials=50)\n",
        "\n",
        "# 最適なハイパーパラメータを表示\n",
        "print(\"Best parameters:\", study.best_params)\n",
        "\n",
        "# 最適なパラメータで再トレーニング\n",
        "best_params = study.best_params\n",
        "best_params['objective'] = 'binary'\n",
        "best_params['metric'] = 'binary_logloss'\n",
        "best_params['boosting_type'] = 'gbdt'\n",
        "best_params['verbose'] = -1\n",
        "\n",
        "# 最適なイテレーション数を取得\n",
        "best_num_boost_round = int(study.best_value)\n",
        "\n",
        "# 全データでモデルをトレーニング\n",
        "train_data = lgb.Dataset(X, label=y, categorical_feature=categorical_columns)\n",
        "final_model = lgb.train(best_params, train_data, num_boost_round=best_num_boost_round)\n",
        "\n"
      ],
      "metadata": {
        "id": "WLkaeQzOL2P-"
      },
      "execution_count": null,
      "outputs": []
    },
    {
      "cell_type": "markdown",
      "source": [
        "# 最適なパラメータでモデルをトレーニングする"
      ],
      "metadata": {
        "id": "qgEPRzb_wi0p"
      }
    },
    {
      "cell_type": "code",
      "source": [
        "import numpy as np\n",
        "import pandas as pd\n",
        "import lightgbm as lgb\n",
        "from sklearn.metrics import f1_score, precision_recall_curve\n",
        "from sklearn.model_selection import StratifiedKFold\n",
        "\n",
        "# データ読み込み\n",
        "file_path = '/content/drive/My Drive/signate/train_1221_3.csv'\n",
        "df = pd.read_csv(file_path, low_memory=False)\n",
        "\n",
        "# カテゴリカル列\n",
        "categorical_columns = ['purpose', 'application_type']\n",
        "for col in categorical_columns:\n",
        "    df[col] = df[col].astype('category')\n",
        "\n",
        "# 特徴量とターゲット\n",
        "X = df.drop(columns=['loan_status', 'grade', 'term_months'])\n",
        "y = df['loan_status']\n",
        "\n",
        "# 最適なパラメータ\n",
        "best_params = {\n",
        "    'learning_rate': 0.012528262312852314,\n",
        "    'num_leaves': 154,\n",
        "    'max_depth': 2,\n",
        "    'min_data_in_leaf': 91,\n",
        "    'lambda_l1': 3.7686025319987305e-08,\n",
        "    'lambda_l2': 0.23010952486313951,\n",
        "    'feature_fraction': 0.9527151400808356,\n",
        "    'bagging_fraction': 0.9322382366626687,\n",
        "    'bagging_freq': 8,\n",
        "    'scale_pos_weight': 1.0421558155965245,\n",
        "    'objective': 'binary',\n",
        "    'metric': 'binary_logloss',\n",
        "    'verbosity': -1,\n",
        "    'seed': 42\n",
        "}\n",
        "\n",
        "# クロスバリデーションの設定\n",
        "n_splits = 5\n",
        "kf = StratifiedKFold(n_splits=n_splits, shuffle=True, random_state=42)\n",
        "\n",
        "# 結果を格納するリスト\n",
        "f1_scores_list = []\n",
        "iterations = []\n",
        "\n",
        "for fold, (train_idx, val_idx) in enumerate(kf.split(X, y)):\n",
        "    print(f\"Fold {fold + 1}/{n_splits}\")\n",
        "\n",
        "    # 学習データと検証データの分割\n",
        "    X_train, X_val = X.iloc[train_idx], X.iloc[val_idx]\n",
        "    y_train, y_val = y.iloc[train_idx], y.iloc[val_idx]\n",
        "\n",
        "    # LightGBM用データセットの作成\n",
        "    train_data = lgb.Dataset(X_train, label=y_train, categorical_feature=categorical_columns)\n",
        "    val_data = lgb.Dataset(X_val, label=y_val, categorical_feature=categorical_columns)\n",
        "\n",
        "    # モデルのトレーニング\n",
        "    model = lgb.train(\n",
        "        best_params,\n",
        "        train_data,\n",
        "        num_boost_round=1000,\n",
        "        valid_sets=[train_data, val_data],\n",
        "        valid_names=['train', 'valid'],\n",
        "        callbacks=[\n",
        "            lgb.early_stopping(stopping_rounds=50),\n",
        "            lgb.log_evaluation(50)\n",
        "        ]\n",
        "    )\n",
        "\n",
        "    # 最良のイテレーションを記録\n",
        "    iterations.append(model.best_iteration)\n",
        "\n",
        "    # 検証データでの予測確率\n",
        "    y_val_proba = model.predict(X_val, num_iteration=model.best_iteration)\n",
        "\n",
        "    # Precision-Recall Curveを計算\n",
        "    precisions, recalls, thresholds = precision_recall_curve(y_val, y_val_proba)\n",
        "\n",
        "    # F1スコアを計算\n",
        "    f1_scores = 2 * (precisions * recalls) / (precisions + recalls)\n",
        "    f1_scores = np.nan_to_num(f1_scores)  # NaNを防止\n",
        "\n",
        "    # 最適な閾値を見つける\n",
        "    optimal_threshold = thresholds[np.argmax(f1_scores)]\n",
        "    print(f\"Optimal Threshold for Fold {fold + 1}: {optimal_threshold}\")\n",
        "\n",
        "    # 最適な閾値で予測を調整\n",
        "    y_val_adjusted = (y_val_proba >= optimal_threshold).astype(int)\n",
        "\n",
        "    # 最終的なF1スコア\n",
        "    final_f1_score = f1_score(y_val, y_val_adjusted)\n",
        "    print(f\"Final F1 Score for Fold {fold + 1}: {final_f1_score}\")\n",
        "\n",
        "    # スコアをリストに追加\n",
        "    f1_scores_list.append(final_f1_score)\n",
        "\n",
        "# 平均F1スコアを計算\n",
        "mean_f1_score = np.mean(f1_scores_list)\n",
        "print(f\"Mean F1 Score across all folds: {mean_f1_score}\")\n",
        "\n",
        "# モデルを保存\n",
        "model_file_path = '/content/drive/My Drive/signate/lgbm_model_1221_3.txt'\n",
        "final_model.save_model(model_file_path)\n",
        "print(f\"Model saved to: {model_file_path}\")\n"
      ],
      "metadata": {
        "collapsed": true,
        "id": "--p56w7lwRzZ"
      },
      "execution_count": null,
      "outputs": []
    },
    {
      "cell_type": "markdown",
      "metadata": {
        "id": "KmKBY1S6boBE"
      },
      "source": [
        "# モデルが重視する特徴量を可視化する"
      ]
    },
    {
      "cell_type": "code",
      "source": [
        "import pandas as pd\n",
        "import lightgbm as lgb\n",
        "import matplotlib.pyplot as plt\n",
        "import seaborn as sns\n",
        "\n",
        "\n",
        "# データ読み込み\n",
        "file_path = '/content/drive/My Drive/signate/train_1221_4.csv'\n",
        "df = pd.read_csv(file_path, low_memory=False)\n",
        "\n",
        "# カテゴリカル列\n",
        "categorical_columns = ['purpose', 'application_type']\n",
        "for col in categorical_columns:\n",
        "    df[col] = df[col].astype('category')\n",
        "\n",
        "# 特徴量とターゲット\n",
        "X = df.drop(columns=['loan_status', 'grade', 'term_months'])\n",
        "y = df['loan_status']\n",
        "\n",
        "# モデルのトレーニング（例としてLightGBMを仮定）\n",
        "train_data = lgb.Dataset(X, label=y)\n",
        "final_model = lgb.train({'objective': 'binary'}, train_data, num_boost_round=100)\n",
        "\n",
        "# 特徴量重要度を取得\n",
        "feature_importances = final_model.feature_importance(importance_type='gain')  # 'split' も選択可能\n",
        "feature_names = final_model.feature_name()\n",
        "\n",
        "# データフレームとして整理\n",
        "importance_df = pd.DataFrame({\n",
        "    'Feature': feature_names,\n",
        "    'Importance': feature_importances\n",
        "}).sort_values(by='Importance', ascending=False)\n",
        "\n",
        "# 特徴量重要度の可視化\n",
        "plt.figure(figsize=(10, 6))\n",
        "sns.barplot(x='Importance', y='Feature', data=importance_df)\n",
        "plt.title(\"Feature Importance\")\n",
        "plt.xlabel(\"Importance\")\n",
        "plt.ylabel(\"Feature\")\n",
        "plt.show()\n",
        "\n",
        "# 特徴量重要度を確認\n",
        "print(importance_df)\n"
      ],
      "metadata": {
        "colab": {
          "base_uri": "https://localhost:8080/",
          "height": 816
        },
        "id": "HuOwEJFttglx",
        "outputId": "c3d811e3-b278-46e8-f909-f736947e20f9"
      },
      "execution_count": null,
      "outputs": [
        {
          "output_type": "display_data",
          "data": {
            "text/plain": [
              "<Figure size 1000x600 with 1 Axes>"
            ],
            "image/png": "[encoded data removed]"
          },
          "metadata": {}
        },
        {
          "output_type": "stream",
          "name": "stdout",
          "text": [
            "                    Feature    Importance\n",
            "7             grade_encoded  64536.610383\n",
            "2             interest_rate  33192.379066\n",
            "3         employment_length   5347.987510\n",
            "5              credit_score   4806.120086\n",
            "11             burden_index   3270.202911\n",
            "4                   purpose   3113.614519\n",
            "0                 loan_amnt   2568.770869\n",
            "9           monthly_payment   2167.455474\n",
            "10            total_payment   1452.596882\n",
            "1                      term   1448.073074\n",
            "6          application_type    404.925931\n",
            "12  total_employment_length    348.930061\n",
            "8     monthly_interest_rate      0.000000\n"
          ]
        }
      ]
    },
    {
      "cell_type": "markdown",
      "source": [
        "# 実際のtestデータで予測する"
      ],
      "metadata": {
        "id": "gg_GRvbxlBQe"
      }
    },
    {
      "cell_type": "code",
      "source": [
        "import pandas as pd\n",
        "import lightgbm as lgb\n",
        "\n",
        "# ファイルパス\n",
        "test_file_path = '/content/drive/My Drive/signate/test_1221_5.csv'\n",
        "model_file_path = '/content/drive/My Drive/signate/lgbm_model_1221_5.txt'\n",
        "\n",
        "# テストデータの読み込み\n",
        "test_df = pd.read_csv(test_file_path, low_memory=False)\n",
        "\n",
        "\n",
        "# カテゴリカル列\n",
        "categorical_columns = ['purpose', 'application_type']\n",
        "for col in categorical_columns:\n",
        "    test_df[col] = test_df[col].astype('category')\n",
        "\n",
        "# 特徴量を抽出\n",
        "X_test = test_df.drop(columns=['id', 'grade', 'term_months'], errors='ignore')  # 除外列をトレーニングデータと一致\n",
        "\n",
        "# 保存したモデルを読み込む\n",
        "final_model = lgb.Booster(model_file=model_file_path)\n",
        "\n",
        "# テストデータの予測確率を取得\n",
        "test_proba = final_model.predict(X_test)  # クラス1の確率を取得\n",
        "\n",
        "# 最適閾値を設定\n",
        "optimal_threshold =  0.19726323890446196  # トレーニングで計算した最適閾値を使用\n",
        "test_predictions = (test_proba > optimal_threshold).astype(int)\n",
        "\n",
        "# 提出用のデータフレーム作成\n",
        "submission = pd.DataFrame({\n",
        "    'id': test_df['id'],  # テストデータのID列\n",
        "    'loan_status': test_predictions  # 予測結果\n",
        "})\n",
        "\n",
        "# CSVとして保存\n",
        "submission_file_path = '/content/drive/My Drive/signate/submission1221_4.csv'\n",
        "submission.to_csv(submission_file_path, index=False, header=False)  # ヘッダーを削除\n",
        "print(f\"Submission file saved to: {submission_file_path}\")\n"
      ],
      "metadata": {
        "id": "T5UJkyEAIRlb"
      },
      "execution_count": null,
      "outputs": []
    },
    {
      "cell_type": "code",
      "source": [
        "import pandas as pd\n",
        "\n",
        "# CSVファイルを読み込む\n",
        "file_path = '/content/drive/My Drive/signate/submission1221_4.csv'\n",
        "test_df = pd.read_csv(file_path, low_memory=False)\n",
        "\n",
        "test_df.head(30)"
      ],
      "metadata": {
        "collapsed": true,
        "id": "iRL1IMXvIbYM"
      },
      "execution_count": null,
      "outputs": []
    },
    {
      "cell_type": "markdown",
      "source": [
        "# catboostでトレーニングする"
      ],
      "metadata": {
        "id": "s8_nCU74fkuE"
      }
    },
    {
      "cell_type": "code",
      "source": [
        "!pip install catboost"
      ],
      "metadata": {
        "collapsed": true,
        "id": "ZW1-0avBfnVP"
      },
      "execution_count": null,
      "outputs": []
    },
    {
      "cell_type": "markdown",
      "source": [
        "# optunaで最適なパラメータを探す"
      ],
      "metadata": {
        "id": "PLDrXEQX0uTu"
      }
    },
    {
      "cell_type": "code",
      "source": [
        "import optuna\n",
        "import pandas as pd\n",
        "import numpy as np\n",
        "from catboost import CatBoostClassifier, Pool\n",
        "from sklearn.model_selection import StratifiedKFold\n",
        "from sklearn.metrics import precision_recall_curve, f1_score\n",
        "\n",
        "# データ読み込み\n",
        "file_path = '/content/drive/My Drive/signate/train_1221_5.csv'\n",
        "df = pd.read_csv(file_path, low_memory=False)\n",
        "\n",
        "# カテゴリカル列\n",
        "categorical_columns = ['purpose', 'application_type']\n",
        "for col in categorical_columns:\n",
        "    df[col] = df[col].astype('category')\n",
        "\n",
        "# 特徴量とターゲット\n",
        "X = df.drop(columns=['loan_status', 'grade', 'term_months'])\n",
        "y = df['loan_status']\n",
        "\n",
        "# 欠損値の確認と処理\n",
        "if X.isnull().sum().sum() > 0:\n",
        "    print(\"Warning: Missing values found in features. Consider handling them explicitly.\")\n",
        "\n",
        "# Optunaの目的関数\n",
        "def objective(trial):\n",
        "    params = {\n",
        "        'iterations': trial.suggest_int('iterations', 300, 3000),\n",
        "        'depth': trial.suggest_int('depth', 10, 16),\n",
        "        'learning_rate': trial.suggest_float('learning_rate', 1e-3, 0.2, log=True),\n",
        "        'l2_leaf_reg': trial.suggest_float('l2_leaf_reg', 1, 15),\n",
        "        'border_count': trial.suggest_int('border_count', 32, 255),\n",
        "        'bagging_temperature': trial.suggest_float('bagging_temperature', 0, 10),\n",
        "        'random_strength': trial.suggest_float('random_strength', 0, 10),\n",
        "        'eval_metric': 'F1',\n",
        "        'use_best_model': True,\n",
        "        'random_seed': 42,\n",
        "        'verbose': 0\n",
        "    }\n",
        "\n",
        "    # Stratified K-Fold Cross Validation\n",
        "    skf = StratifiedKFold(n_splits=5, shuffle=True, random_state=42)\n",
        "    scores = []\n",
        "\n",
        "    for train_idx, val_idx in skf.split(X, y):\n",
        "        X_train, X_val = X.iloc[train_idx], X.iloc[val_idx]\n",
        "        y_train, y_val = y.iloc[train_idx], y.iloc[val_idx]\n",
        "\n",
        "        # 欠損値の処理\n",
        "        train_pool = Pool(X_train, y_train, cat_features=categorical_columns)\n",
        "        val_pool = Pool(X_val, y_val, cat_features=categorical_columns)\n",
        "\n",
        "        # モデルのトレーニング\n",
        "        model = CatBoostClassifier(**params)\n",
        "        model.fit(train_pool, eval_set=val_pool, early_stopping_rounds=100, verbose=0)\n",
        "\n",
        "        # 閾値調整\n",
        "        y_pred_prob = model.predict_proba(X_val)[:, 1]\n",
        "        precision, recall, thresholds = precision_recall_curve(y_val, y_pred_prob)\n",
        "\n",
        "        # F1スコア計算の安定化\n",
        "        f1_scores = 2 * (precision * recall) / (precision + recall)\n",
        "        f1_scores = np.nan_to_num(f1_scores)  # NaNを0に変換\n",
        "        if len(thresholds) == 0:  # 念のためのエッジケース対応\n",
        "            continue\n",
        "        best_threshold = thresholds[np.argmax(f1_scores)]\n",
        "\n",
        "        # 最適閾値で予測\n",
        "        y_pred_adjusted = (y_pred_prob >= best_threshold).astype(int)\n",
        "        scores.append(f1_score(y_val, y_pred_adjusted))\n",
        "\n",
        "    # 平均F1スコアを返す\n",
        "    return np.mean(scores) if len(scores) > 0 else 0\n",
        "\n",
        "# Optunaの最適化\n",
        "study = optuna.create_study(direction='maximize')\n",
        "study.optimize(objective, n_trials=50)\n",
        "\n",
        "# 最適パラメータの確認\n",
        "print(\"Best params:\", study.best_params)\n",
        "print(\"Best F1 score:\", study.best_value)\n"
      ],
      "metadata": {
        "collapsed": true,
        "id": "SLPgMYOuisk6"
      },
      "execution_count": null,
      "outputs": []
    },
    {
      "cell_type": "markdown",
      "metadata": {
        "id": "fbz4w72LcPIL"
      },
      "source": [
        "# 最適なパラメータでトレーニングする"
      ]
    },
    {
      "cell_type": "code",
      "source": [
        "import pandas as pd\n",
        "import numpy as np\n",
        "from sklearn.metrics import precision_recall_curve, f1_score\n",
        "from sklearn.model_selection import train_test_split\n",
        "from catboost import CatBoostClassifier, Pool\n",
        "\n",
        "\n",
        "# データ読み込み\n",
        "file_path = '/content/drive/My Drive/signate/train_1221_5.csv'\n",
        "df = pd.read_csv(file_path, low_memory=False)\n",
        "\n",
        "# カテゴリカル列\n",
        "categorical_columns = ['purpose', 'application_type']\n",
        "for col in categorical_columns:\n",
        "    df[col] = df[col].astype('category')\n",
        "\n",
        "# 特徴量とターゲット\n",
        "X = df.drop(columns=['loan_status', 'grade', 'term_months'])\n",
        "y = df['loan_status']\n",
        "\n",
        "# 欠損値の確認と処理\n",
        "if X.isnull().sum().sum() > 0:\n",
        "    print(\"Warning: Missing values found in features. Consider handling them explicitly.\")\n",
        "\n",
        "# トレーニングデータと検証データに分割\n",
        "X_train, X_eval, y_train, y_eval = train_test_split(X, y, test_size=0.2, random_state=42, stratify=y)\n",
        "\n",
        "# Poolオブジェクトを作成\n",
        "train_pool = Pool(X_train, y_train, cat_features=categorical_columns)\n",
        "eval_pool = Pool(X_eval, y_eval, cat_features=categorical_columns)\n",
        "\n",
        "# 最適パラメータを設定\n",
        "best_params = {\n",
        "    'iterations': 531,\n",
        "    'depth': 11,\n",
        "    'learning_rate': 0.06382731423716013,\n",
        "    'l2_leaf_reg': 8.96608380944381,\n",
        "    'border_count': 102,\n",
        "    'bagging_temperature': 4.092390774597465,\n",
        "    'random_strength': 2.298108915615952,\n",
        "    'eval_metric': 'F1',\n",
        "    'use_best_model': True,\n",
        "    'random_seed': 42\n",
        "}\n",
        "\n",
        "# モデルのトレーニング\n",
        "final_model = CatBoostClassifier(**best_params)\n",
        "final_model.fit(train_pool, eval_set=eval_pool, early_stopping_rounds=100, verbose=50)\n",
        "\n",
        "# 検証データで予測確率を取得\n",
        "eval_proba = final_model.predict_proba(eval_pool)[:, 1]  # クラス1の確率を取得\n",
        "\n",
        "# Precision-Recall Curve を使用して最適な閾値を計算\n",
        "precision, recall, thresholds = precision_recall_curve(y_eval, eval_proba)\n",
        "\n",
        "# F1スコアの計算\n",
        "f1_scores = 2 * (precision * recall) / (precision + recall)\n",
        "f1_scores = np.nan_to_num(f1_scores)  # NaNを0に変換\n",
        "\n",
        "# 最適な閾値\n",
        "optimal_threshold = thresholds[np.argmax(f1_scores)]\n",
        "print(f\"Optimal Threshold: {optimal_threshold}\")\n",
        "\n",
        "# 最適な閾値でF1スコアを計算\n",
        "y_pred_adjusted = (eval_proba >= optimal_threshold).astype(int)\n",
        "final_f1_score = f1_score(y_eval, y_pred_adjusted)\n",
        "print(f\"Final F1 Score with Optimal Threshold: {final_f1_score}\")\n",
        "\n",
        "# モデルを保存\n",
        "model_file_path = '/content/drive/My Drive/signate/catboost_model_1221_1.cbm'\n",
        "final_model.save_model(model_file_path)\n",
        "print(f\"Model saved to: {model_file_path}\")\n"
      ],
      "metadata": {
        "id": "dnVzVvKywdT_"
      },
      "execution_count": null,
      "outputs": []
    },
    {
      "cell_type": "markdown",
      "metadata": {
        "id": "YfvAP2OpbHzE"
      },
      "source": [
        "# 実際のテストデータで予測する"
      ]
    },
    {
      "cell_type": "code",
      "source": [
        "import pandas as pd\n",
        "from catboost import CatBoostClassifier, Pool\n",
        "\n",
        "# ファイルパス\n",
        "test_file_path = '/content/drive/My Drive/signate/test_1221_5.csv'\n",
        "cat_model_file_path = '/content/drive/My Drive/signate/catboost_model_1221_1.cbm'\n",
        "\n",
        "# テストデータの読み込み\n",
        "test_df = pd.read_csv(test_file_path, low_memory=False)\n",
        "\n",
        "# カテゴリカル列\n",
        "categorical_columns = ['purpose', 'application_type']\n",
        "for col in categorical_columns:\n",
        "    test_df[col] = test_df[col].astype('category')\n",
        "\n",
        "# 特徴量を抽出\n",
        "X_test = test_df.drop(columns=['id', 'grade', 'term_months'], errors='ignore')  # 除外列をトレーニングデータと一致\n",
        "\n",
        "# Poolオブジェクトを作成\n",
        "test_pool = Pool(X_test, cat_features=categorical_columns)\n",
        "\n",
        "# 保存したモデルを読み込む\n",
        "final_model = CatBoostClassifier()\n",
        "final_model.load_model(model_file_path)\n",
        "\n",
        "# テストデータの予測確率を取得\n",
        "test_proba = final_model.predict_proba(test_pool)[:, 1]  # クラス1の確率を取得\n",
        "\n",
        "# 最適閾値を設定\n",
        "optimal_threshold = 0.21294587588263655  # トレーニングで計算した最適閾値を使用\n",
        "test_predictions = (test_proba > optimal_threshold).astype(int)\n",
        "\n",
        "# 提出用のデータフレーム作成\n",
        "submission = pd.DataFrame({\n",
        "    'id': test_df['id'],  # テストデータのID列\n",
        "    'loan_status': test_predictions  # 予測結果\n",
        "})\n",
        "\n",
        "# CSVとして保存\n",
        "submission_file_path = '/content/drive/My Drive/signate/submission1221_7.csv'\n",
        "submission.to_csv(submission_file_path, index=False, header=False)  # ヘッダーを削除\n",
        "print(f\"Submission file saved to: {submission_file_path}\")\n"
      ],
      "metadata": {
        "colab": {
          "base_uri": "https://localhost:8080/"
        },
        "id": "4vNyxnP_xJ2E",
        "outputId": "1508d016-11bd-4d3a-dede-d9d45e9f8021"
      },
      "execution_count": null,
      "outputs": [
        {
          "output_type": "stream",
          "name": "stdout",
          "text": [
            "Submission file saved to: /content/drive/My Drive/signate/submission1221_7.csv\n"
          ]
        }
      ]
    },
    {
      "cell_type": "code",
      "execution_count": null,
      "metadata": {
        "id": "rTlrTSDolnnb",
        "collapsed": true
      },
      "outputs": [],
      "source": [
        "import pandas as pd\n",
        "\n",
        "# CSVファイルを読み込む\n",
        "file_path = '/content/drive/My Drive/signate/submission1221_7.csv'\n",
        "test_df = pd.read_csv(file_path, low_memory=False)\n",
        "\n",
        "test_df.head(30)"
      ]
    },
    {
      "cell_type": "markdown",
      "source": [
        "# アンサンブルモデルを作成する"
      ],
      "metadata": {
        "id": "cmb4_suEbth4"
      }
    },
    {
      "cell_type": "code",
      "source": [
        "import pandas as pd\n",
        "import lightgbm as lgb\n",
        "from sklearn.model_selection import train_test_split\n",
        "from sklearn.metrics import f1_score, precision_recall_curve\n",
        "from catboost import CatBoostClassifier\n",
        "\n",
        "# データ読み込み\n",
        "file_path = '/content/drive/My Drive/signate/train_with_features.csv'\n",
        "df = pd.read_csv(file_path, low_memory=False)\n",
        "\n",
        "# LightGBMモデルを読み込む\n",
        "lgbm_model_file_path = '/content/drive/My Drive/signate/lgbm_model_1219_2.txt'\n",
        "lgbm_model = lgb.Booster(model_file=lgbm_model_file_path)\n",
        "\n",
        "# CatBoostモデルを読み込む\n",
        "cat_model_file_path = '/content/drive/My Drive/signate/catboost_model_1219_1.cbm'\n",
        "cat_model = CatBoostClassifier()\n",
        "cat_model.load_model(cat_model_file_path)\n",
        "\n",
        "# カテゴリカル列\n",
        "categorical_columns = ['grade', 'purpose', 'application_type']\n",
        "for col in categorical_columns:\n",
        "    df[col] = df[col].astype('category')\n",
        "\n",
        "# 特徴量とターゲット\n",
        "X = df.drop(columns=['loan_status'])\n",
        "y = df['loan_status']\n",
        "\n",
        "# データ分割\n",
        "X_train, X_val, y_train, y_val = train_test_split(X, y, test_size=0.2, random_state=42, stratify=y)\n",
        "\n",
        "# カテゴリカル型が保持されているか確認\n",
        "print(X_val.dtypes)\n",
        "\n",
        "# LightGBMの予測確率\n",
        "lgbm_preds = lgbm_model.predict(X_val)\n",
        "\n",
        "# CatBoostの予測確率\n",
        "cat_preds = cat_model.predict_proba(X_val)[:, 1]  # クラス1の確率\n",
        "\n",
        "# アンサンブル\n",
        "lgbm_weight = 0.5\n",
        "cat_weight = 0.5\n",
        "ensemble_preds = lgbm_weight * lgbm_preds + cat_weight * cat_preds\n",
        "\n",
        "# Precision-Recall Curveを使って最適な閾値を計算\n",
        "precision, recall, thresholds = precision_recall_curve(y_val, ensemble_preds)\n",
        "f1_scores = [2 * (p * r) / (p + r) if (p + r) > 0 else 0 for p, r in zip(precision, recall)]\n",
        "\n",
        "if len(thresholds) > 0:\n",
        "    best_threshold = thresholds[f1_scores.index(max(f1_scores))]\n",
        "else:\n",
        "    best_threshold = 0.5  # デフォルト閾値\n",
        "\n",
        "# 最終予測\n",
        "final_preds = (ensemble_preds > best_threshold).astype(int)\n",
        "\n",
        "# F1スコアの評価\n",
        "ensemble_f1 = f1_score(y_val, final_preds)\n",
        "print(f\"Ensemble Model F1 Score: {ensemble_f1}\")\n"
      ],
      "metadata": {
        "colab": {
          "base_uri": "https://localhost:8080/"
        },
        "id": "KW85935_dIEO",
        "outputId": "1d7d2f51-1db4-4a1b-8d2a-2a4d06515d21"
      },
      "execution_count": null,
      "outputs": [
        {
          "output_type": "stream",
          "name": "stdout",
          "text": [
            "loan_amnt                 float64\n",
            "term                      float64\n",
            "interest_rate             float64\n",
            "grade                    category\n",
            "employment_length         float64\n",
            "purpose                  category\n",
            "credit_score              float64\n",
            "application_type         category\n",
            "monthly_interest_rate     float64\n",
            "term_months               float64\n",
            "monthly_payment           float64\n",
            "total_payment             float64\n",
            "burden_index              float64\n",
            "dtype: object\n",
            "Ensemble Model F1 Score: 0.4350337532187348\n"
          ]
        }
      ]
    },
    {
      "cell_type": "code",
      "source": [
        "import matplotlib.pyplot as plt\n",
        "import numpy as np\n",
        "\n",
        "# Precision-Recall Curveを計算\n",
        "precision, recall, thresholds = precision_recall_curve(y_val, ensemble_preds)\n",
        "\n",
        "# F1スコアを計算\n",
        "f1_scores = [2 * (p * r) / (p + r) if (p + r) > 0 else 0 for p, r in zip(precision, recall)]\n",
        "\n",
        "# 最適な閾値を取得\n",
        "best_threshold = thresholds[np.argmax(f1_scores)]\n",
        "best_f1_score = max(f1_scores)\n",
        "\n",
        "# 結果を出力\n",
        "print(f\"Best Threshold: {best_threshold}\")\n",
        "print(f\"Best F1 Score: {best_f1_score}\")\n",
        "\n",
        "# グラフで可視化\n",
        "plt.figure(figsize=(10, 6))\n",
        "plt.plot(thresholds, f1_scores[:-1], label='F1 Score')  # 最後のスコアに対応する閾値はない\n",
        "plt.plot(thresholds, precision[:-1], label='Precision', linestyle='--')\n",
        "plt.plot(thresholds, recall[:-1], label='Recall', linestyle='--')\n",
        "plt.axvline(best_threshold, color='r', linestyle=':', label=f'Best Threshold: {best_threshold:.4f}')\n",
        "plt.title('Precision, Recall, and F1 Score by Threshold')\n",
        "plt.xlabel('Threshold')\n",
        "plt.ylabel('Score')\n",
        "plt.legend()\n",
        "plt.grid()\n",
        "plt.show()\n"
      ],
      "metadata": {
        "colab": {
          "base_uri": "https://localhost:8080/",
          "height": 600
        },
        "id": "qNAEOR9AcX82",
        "outputId": "0496ebbe-f075-4e1a-9c05-763dcd6cafe3"
      },
      "execution_count": null,
      "outputs": [
        {
          "output_type": "stream",
          "name": "stdout",
          "text": [
            "Best Threshold: 0.21791771931677495\n",
            "Best F1 Score: 0.43507306889352815\n"
          ]
        },
        {
          "output_type": "display_data",
          "data": {
            "text/plain": [
              "<Figure size 1000x600 with 1 Axes>"
            ],
            "image/png": "[encoded data removed]"
          },
          "metadata": {}
        }
      ]
    },
    {
      "cell_type": "code",
      "source": [
        "from sklearn.metrics import precision_recall_curve\n",
        "\n",
        "# 検証データで予測\n",
        "val_preds = ensemble_preds   # アンサンブルモデルの検証データ予測結果\n",
        "\n",
        "# Precision-Recall Curveを計算\n",
        "precision, recall, thresholds = precision_recall_curve(y_val, val_preds)\n",
        "f1_scores = [2 * (p * r) / (p + r) if (p + r) > 0 else 0 for p, r in zip(precision, recall)]\n",
        "\n",
        "# F1スコアが最大となる閾値を選択\n",
        "best_threshold = thresholds[f1_scores.index(max(f1_scores))]\n",
        "print(f\"Optimal Threshold from Validation Data: {best_threshold}\")\n"
      ],
      "metadata": {
        "colab": {
          "base_uri": "https://localhost:8080/"
        },
        "id": "zThlsEz2P4Xx",
        "outputId": "d509a39e-9f60-4c4f-c396-5d81618223fd"
      },
      "execution_count": null,
      "outputs": [
        {
          "output_type": "stream",
          "name": "stdout",
          "text": [
            "Optimal Threshold from Validation Data: 0.21791771931677495\n"
          ]
        }
      ]
    },
    {
      "cell_type": "code",
      "source": [
        "# LightGBMモデルを読み込む\n",
        "lgbm_model_file_path = '/content/drive/My Drive/signate/lgbm_model_1219_2.txt'\n",
        "lgbm_model = lgb.Booster(model_file=lgbm_model_file_path)\n",
        "\n",
        "# CatBoostモデルを読み込む\n",
        "cat_model_file_path = '/content/drive/My Drive/signate/catboost_model_1219_1.cbm'\n",
        "cat_model = CatBoostClassifier()\n",
        "cat_model.load_model(cat_model_file_path)\n",
        "\n",
        "# テストデータの読み込み\n",
        "test_file_path = '/content/drive/My Drive/signate/test_with_features.csv'\n",
        "test_df = pd.read_csv(test_file_path, low_memory=False)\n",
        "\n",
        "# カテゴリカル列の型変換\n",
        "categorical_columns = ['grade', 'purpose', 'application_type']\n",
        "for col in categorical_columns:\n",
        "    test_df[col] = test_df[col].astype('category')\n",
        "\n",
        "# 特徴量を抽出\n",
        "X_test = test_df.drop(columns=['id'])  # 必要に応じて除外する列を調整\n",
        "\n",
        "# LightGBMとCatBoostの予測確率\n",
        "lgbm_preds_test = lgbm_model.predict(X_test)\n",
        "cat_preds_test = cat_model.predict_proba(X_test)[:, 1]\n",
        "\n",
        "# アンサンブル\n",
        "lgbm_weight = 0.5\n",
        "cat_weight = 0.5\n",
        "ensemble_preds_test = lgbm_weight * lgbm_preds_test + cat_weight * cat_preds_test\n",
        "\n",
        "# 最適閾値でクラス予測\n",
        "best_threshold = 0.217\n",
        "final_test_preds = (ensemble_preds_test > best_threshold).astype(int)\n",
        "\n",
        "# 提出用のデータフレーム作成\n",
        "submission = pd.DataFrame({\n",
        "    'id': test_df['id'],  # テストデータのID列\n",
        "    'loan_status': final_test_preds  # 予測結果\n",
        "})\n",
        "\n",
        "# 結果の保存\n",
        "output_file_path = '/content/drive/My Drive/signate/submission1219_7.csv'\n",
        "submission.to_csv(output_file_path, index=False, header=False)\n",
        "\n",
        "print(f\"Predictions saved to: {output_file_path}\")\n"
      ],
      "metadata": {
        "colab": {
          "base_uri": "https://localhost:8080/"
        },
        "id": "l-ccqq5XltPP",
        "outputId": "148a91c5-9f9b-4fc9-e34b-bea614f7aa7c"
      },
      "execution_count": null,
      "outputs": [
        {
          "output_type": "stream",
          "name": "stdout",
          "text": [
            "Predictions saved to: /content/drive/My Drive/signate/submission1219_7.csv\n"
          ]
        }
      ]
    },
    {
      "cell_type": "code",
      "source": [
        "import pandas as pd\n",
        "\n",
        "# CSVファイルを読み込む\n",
        "file_path = '/content/drive/My Drive/signate/submission1219_7.csv'\n",
        "test_df = pd.read_csv(file_path, low_memory=False)\n",
        "\n",
        "test_df.head(30)"
      ],
      "metadata": {
        "id": "x1uR-pmNi4lT",
        "collapsed": true
      },
      "execution_count": null,
      "outputs": []
    }
  ],
  "metadata": {
    "colab": {
      "provenance": [],
      "machine_shape": "hm",
      "gpuType": "L4"
    },
    "kernelspec": {
      "display_name": "Python 3",
      "name": "python3"
    },
    "language_info": {
      "name": "python"
    },
    "accelerator": "GPU"
  },
  "nbformat": 4,
  "nbformat_minor": 0
}